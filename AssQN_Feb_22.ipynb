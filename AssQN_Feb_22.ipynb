{
 "cells": [
  {
   "cell_type": "markdown",
   "id": "e88aa18a",
   "metadata": {},
   "source": [
    "Q1. Create a Pandas Series that contains the following data: 4, 8, 15, 16, 23, and 42. Then, print the series."
   ]
  },
  {
   "cell_type": "code",
   "execution_count": 1,
   "id": "2b785ae5",
   "metadata": {},
   "outputs": [
    {
     "name": "stdout",
     "output_type": "stream",
     "text": [
      "0     4\n",
      "1     8\n",
      "2    15\n",
      "3    16\n",
      "4    23\n",
      "5    42\n",
      "dtype: int64\n"
     ]
    },
    {
     "data": {
      "text/plain": [
       "pandas.core.series.Series"
      ]
     },
     "execution_count": 1,
     "metadata": {},
     "output_type": "execute_result"
    }
   ],
   "source": [
    "import pandas as pd\n",
    "data = [4,8,15,16,23,42] #given data\n",
    "series = pd.Series(data) #converting data into series\n",
    "print(series)\n",
    "type(series)"
   ]
  },
  {
   "cell_type": "markdown",
   "id": "3cb46bc8",
   "metadata": {},
   "source": [
    "Q2. Create a variable of list type containing 10 elements in it, and apply pandas.Series function on the\n",
    "variable print it."
   ]
  },
  {
   "cell_type": "code",
   "execution_count": 2,
   "id": "fe521fb1",
   "metadata": {},
   "outputs": [
    {
     "name": "stdout",
     "output_type": "stream",
     "text": [
      "0    12\n",
      "1    23\n",
      "2    34\n",
      "3    44\n",
      "4    45\n",
      "5    55\n",
      "6    56\n",
      "7    67\n",
      "8    79\n",
      "9    89\n",
      "dtype: int64\n"
     ]
    },
    {
     "data": {
      "text/plain": [
       "pandas.core.series.Series"
      ]
     },
     "execution_count": 2,
     "metadata": {},
     "output_type": "execute_result"
    }
   ],
   "source": [
    "var_list = [12,23,34,44,45,55,56,67,79,89]\n",
    "ser = pd.Series(var_list)\n",
    "print(ser)\n",
    "type(ser)"
   ]
  },
  {
   "cell_type": "markdown",
   "id": "95511f74",
   "metadata": {},
   "source": [
    "Q3. Create a Pandas DataFrame that contains the following data:\n",
    "Name\n",
    "Alice\n",
    "Bob\n",
    "Claire\n",
    "\n",
    "Age\n",
    "25\n",
    "30\n",
    "27\n",
    "\n",
    "Gender\n",
    "Female\n",
    "Male\n",
    "Female\n",
    "\n"
   ]
  },
  {
   "cell_type": "code",
   "execution_count": 3,
   "id": "4db92cd6",
   "metadata": {},
   "outputs": [
    {
     "name": "stdout",
     "output_type": "stream",
     "text": [
      "     Name  Age  Gender\n",
      "0   Alice   25  Female\n",
      "1     Bob   30    Male\n",
      "2  Claire   27  Female\n"
     ]
    },
    {
     "data": {
      "text/plain": [
       "pandas.core.frame.DataFrame"
      ]
     },
     "execution_count": 3,
     "metadata": {},
     "output_type": "execute_result"
    }
   ],
   "source": [
    "data = {\n",
    "    \"Name\" : [\"Alice\",\"Bob\",\"Claire\"],\n",
    "    \"Age\"  : [25,30,27,],\n",
    "    \"Gender\":[\"Female\",\"Male\",\"Female\"]\n",
    "}\n",
    "df = pd.DataFrame(data)\n",
    "print(df)\n",
    "type(df)"
   ]
  },
  {
   "cell_type": "code",
   "execution_count": 4,
   "id": "f3894997",
   "metadata": {},
   "outputs": [
    {
     "name": "stdout",
     "output_type": "stream",
     "text": [
      "---Example of DataFrame---\n",
      "   id   Name Course\n",
      "0  12    Ram  Btech\n",
      "1  23   Syam    MBA\n",
      "2  34  Rahul     CA\n",
      "---Example of Series---\n",
      "0    12\n",
      "1    23\n",
      "2    34\n",
      "3    45\n",
      "4    45\n",
      "dtype: int64\n"
     ]
    },
    {
     "data": {
      "text/plain": [
       "pandas.core.series.Series"
      ]
     },
     "execution_count": 4,
     "metadata": {},
     "output_type": "execute_result"
    }
   ],
   "source": [
    "'''DataFrame in Pandas:\n",
    "A DataFrame in Pandas is a 2-dimensional labeled data structure with columns that can be of different types. It is analogous \n",
    "to a spreadsheet or a SQL table, or a dictionary of Series objects.'''\n",
    "\n",
    "#Example\n",
    "print(\"---Example of DataFrame---\")\n",
    "data = {\n",
    "    \"id\":[12,23,34],\n",
    "    \"Name\":[\"Ram\",\"Syam\",\"Rahul\"],\n",
    "    \"Course\":[\"Btech\",\"MBA\",\"CA\"]\n",
    "}\n",
    "df = pd.DataFrame(data)\n",
    "print(df)\n",
    "type(df)\n",
    "\n",
    "'''Series in Pandas:\n",
    "A Series in Pandas is a one-dimensional labeled array that can hold data of any type (integer, string, float, objects, etc.).\n",
    "It is similar to a column in an Excel spreadsheet or a single column in a DataFrame. A Series contains a one-dimensional array\n",
    "of data and an associated array of data labels called an index.'''\n",
    "\n",
    "#Example\n",
    "print(\"---Example of Series---\")\n",
    "data = [12,23,34,45,45]\n",
    "ser = pd.Series(data)\n",
    "print(ser)\n",
    "type(ser)"
   ]
  },
  {
   "cell_type": "markdown",
   "id": "ef64939a",
   "metadata": {},
   "source": [
    "Q5. What are some common functions you can use to manipulate data in a Pandas DataFrame? Can\n",
    "you give an example of when you might use one of these functions?"
   ]
  },
  {
   "cell_type": "code",
   "execution_count": 5,
   "id": "3a7916d9",
   "metadata": {},
   "outputs": [
    {
     "name": "stdout",
     "output_type": "stream",
     "text": [
      "       Sales  Profit\n",
      "count    3.0     3.0\n",
      "mean   150.0    10.0\n",
      "std     50.0     5.0\n",
      "min    100.0     5.0\n",
      "25%    125.0     7.5\n",
      "50%    150.0    10.0\n",
      "75%    175.0    12.5\n",
      "max    200.0    15.0\n",
      "\n",
      "  Product  Sales  Profit\n",
      "0       A  100.0    10.0\n",
      "1       B  150.0    15.0\n",
      "2       C    NaN     5.0\n",
      "3       D  200.0     NaN\n",
      "\n",
      "  Product  Sales  Profit\n",
      "0       A  100.0    10.0\n",
      "1       B  150.0    15.0\n",
      "2       C    NaN     5.0\n",
      "3       D  200.0     NaN\n",
      "\n",
      "<class 'pandas.core.frame.DataFrame'>\n",
      "RangeIndex: 4 entries, 0 to 3\n",
      "Data columns (total 3 columns):\n",
      " #   Column   Non-Null Count  Dtype  \n",
      "---  ------   --------------  -----  \n",
      " 0   Product  4 non-null      object \n",
      " 1   Sales    3 non-null      float64\n",
      " 2   Profit   3 non-null      float64\n",
      "dtypes: float64(2), object(1)\n",
      "memory usage: 224.0+ bytes\n",
      "None\n",
      "\n",
      "(4, 3)\n",
      "\n",
      "Index(['Product', 'Sales', 'Profit'], dtype='object')\n",
      "\n",
      "RangeIndex(start=0, stop=4, step=1)\n",
      "\n",
      "  Product  Sales  Profit\n",
      "0       A  100.0    10.0\n",
      "1       B  150.0    15.0\n",
      "\n",
      "  Product  Sales  Profit\n",
      "0       A  100.0    10.0\n",
      "1       B  150.0    15.0\n",
      "2       C    NaN     5.0\n",
      "3       D  200.0     NaN\n"
     ]
    }
   ],
   "source": [
    "'''Common Functions to Manipulate Data in a Pandas DataFrame:\n",
    "Pandas provides a rich set of functions to manipulate and transform data within a DataFrame. Some common functions include:\n",
    "\n",
    "head() and tail():\n",
    "\n",
    "head(): Returns the first n rows (by default, n=5).\n",
    "tail(): Returns the last n rows (by default, n=5).\n",
    "info(): Provides a concise summary of the DataFrame, including the data types of each column and memory usage.\n",
    "\n",
    "describe(): Generates descriptive statistics that summarize the central tendency, dispersion, and shape of the dataset's distribution.\n",
    "\n",
    "shape: Returns a tuple representing the dimensions of the DataFrame (rows, columns).\n",
    "\n",
    "columns: Returns the column labels of the DataFrame.\n",
    "\n",
    "index: Returns the index (row labels) of the DataFrame.\n",
    "\n",
    "loc[] and iloc[]:\n",
    "\n",
    "loc[]: Accesses a group of rows and columns by labels.\n",
    "iloc[]: Accesses a group of rows and columns by integer index.\n",
    "drop(): Drops specified labels (rows or columns) from the DataFrame.\n",
    "\n",
    "fillna(): Fills missing values with a specified value or method.\n",
    "\n",
    "dropna(): Drops rows with missing values.\n",
    "\n",
    "Example Usage:'''\n",
    "\n",
    "#Example\n",
    "\n",
    "data = {\n",
    "    'Product': ['A', 'B', 'C', 'D'],\n",
    "    'Sales': [100, 150, None, 200],\n",
    "    'Profit': [10, 15, 5, None]\n",
    "}\n",
    "df = pd.DataFrame(data)\n",
    "print(df.describe())\n",
    "print()\n",
    "print(df.head())\n",
    "print()\n",
    "print(df.tail())\n",
    "print()\n",
    "print(df.info())\n",
    "print()\n",
    "print(df.shape)\n",
    "print()\n",
    "print(df.columns)\n",
    "print()\n",
    "print(df.index)\n",
    "print()\n",
    "print(df.dropna())\n",
    "print()\n",
    "print(df)\n"
   ]
  },
  {
   "cell_type": "markdown",
   "id": "d1b30873",
   "metadata": {},
   "source": [
    "Q6. Which of the following is mutable in nature Series, DataFrame, Panel?"
   ]
  },
  {
   "cell_type": "markdown",
   "id": "2fa1bcc5",
   "metadata": {},
   "source": [
    "Ans: Series and DataFrame are mutable in nature, while Panel is not relevant for newer versions of Pandas and is no longer recommended."
   ]
  },
  {
   "cell_type": "markdown",
   "id": "559d86de",
   "metadata": {},
   "source": [
    "Q7. Create a DataFrame using multiple Series. Explain with an example."
   ]
  },
  {
   "cell_type": "code",
   "execution_count": 6,
   "id": "6c6ffddb",
   "metadata": {},
   "outputs": [
    {
     "name": "stdout",
     "output_type": "stream",
     "text": [
      "     Name  Score\n",
      "0   Alice     85\n",
      "1     Bob     90\n",
      "2  Claire     78\n",
      "3   David     92\n"
     ]
    }
   ],
   "source": [
    "import pandas as pd\n",
    "\n",
    "# Create a Series for student names\n",
    "names_series = pd.Series(['Alice', 'Bob', 'Claire', 'David'])\n",
    "\n",
    "# Create a Series for student scores\n",
    "scores_series = pd.Series([85, 90, 78, 92])\n",
    "\n",
    "# Combine the Series into a dictionary where 'Name' and 'Score' are the column names\n",
    "data = {'Name': names_series, 'Score': scores_series}\n",
    "\n",
    "# Create a DataFrame using the dictionary\n",
    "df = pd.DataFrame(data)\n",
    "\n",
    "# Print the DataFrame\n",
    "print(df)\n"
   ]
  },
  {
   "cell_type": "code",
   "execution_count": null,
   "id": "09ce96df",
   "metadata": {},
   "outputs": [],
   "source": []
  }
 ],
 "metadata": {
  "kernelspec": {
   "display_name": "Python 3 (ipykernel)",
   "language": "python",
   "name": "python3"
  },
  "language_info": {
   "codemirror_mode": {
    "name": "ipython",
    "version": 3
   },
   "file_extension": ".py",
   "mimetype": "text/x-python",
   "name": "python",
   "nbconvert_exporter": "python",
   "pygments_lexer": "ipython3",
   "version": "3.9.13"
  }
 },
 "nbformat": 4,
 "nbformat_minor": 5
}
